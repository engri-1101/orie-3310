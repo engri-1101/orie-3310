{
  "cells": [
    {
      "cell_type": "markdown",
      "metadata": {
        "id": "1KQHhO7gbnxv"
      },
      "source": [
        "# Branch & Bound and Knapsack Lab"
      ]
    },
    {
      "cell_type": "code",
      "source": [
        "!pip install pulp\n",
        "!pip install gurobipy\n",
        "!pip install gilp"
      ],
      "metadata": {
        "id": "aTfdVguzb0Kd"
      },
      "execution_count": null,
      "outputs": []
    },
    {
      "cell_type": "code",
      "execution_count": null,
      "metadata": {
        "id": "xQwkQpXubnxw"
      },
      "outputs": [],
      "source": [
        "import pandas as pd\n",
        "import gilp\n",
        "from pulp import *\n",
        "from google.colab import userdata"
      ]
    },
    {
      "cell_type": "code",
      "source": [
        "!if [ ! -f \"knapsack_data_1.csv\" ]; then wget https://github.com/engri-1101/orie-3310/raw/refs/heads/main/labs/lab2/knapsack_data_1.csv; fi"
      ],
      "metadata": {
        "id": "-50_kIoxcSc-"
      },
      "execution_count": null,
      "outputs": []
    },
    {
      "cell_type": "markdown",
      "source": [
        "Make sure that you have opened the Key menu, ticked Notebook access for each secret, and closed the key menu before running the next cell."
      ],
      "metadata": {
        "id": "tLRc7zI8cCm9"
      }
    },
    {
      "cell_type": "code",
      "source": [
        "options = {\n",
        "\"WLSACCESSID\": userdata.get(\"WLSACCESSID\"),\n",
        "\"WLSSECRET\": userdata.get(\"WLSSECRET\"),\n",
        "\"LICENSEID\": int(userdata.get(\"LICENSEID\")),\n",
        "}"
      ],
      "metadata": {
        "id": "7HWw2c30cBD3"
      },
      "execution_count": null,
      "outputs": []
    },
    {
      "cell_type": "markdown",
      "metadata": {
        "id": "KQ-mIVXHbnxx"
      },
      "source": [
        "## Part 1: Branch and Bound Algorithm"
      ]
    },
    {
      "cell_type": "markdown",
      "metadata": {
        "id": "YKivXLXIbnxx"
      },
      "source": []
    },
    {
      "cell_type": "markdown",
      "metadata": {
        "id": "aW5OuNRNbnxx"
      },
      "source": [
        "Recall that the branch-and-bound algorithm (in addition to the simplex method) allows us to solve integer programs. Before applying the branch-and-bound algorithm to the knapsack problem, we will begin by reviewing some core ideas. Furthermore, we will identify a helpful property that will make branch-and-bound terminate quicker later in the lab!"
      ]
    },
    {
      "cell_type": "markdown",
      "metadata": {
        "id": "zKGELFNAbnxx"
      },
      "source": [
        "### Question 1\n",
        "What are the different ways a node can be fathomed during the branch and bound algorithm? Describe each."
      ]
    },
    {
      "cell_type": "markdown",
      "metadata": {
        "id": "_nOtRxv0bnxy"
      },
      "source": [
        "#### Answer: (Hint: there are three possible ways.)"
      ]
    },
    {
      "cell_type": "markdown",
      "metadata": {
        "id": "iKBbYdtibnxy"
      },
      "source": [
        "### Question 2\n",
        "Suppose you have a maximization integer program and you solve its linear program relaxation. What does the LP-relaxation optimal value tell you about the IP optimal value? What if it is a minimization problem?\n",
        "\n"
      ]
    },
    {
      "cell_type": "markdown",
      "metadata": {
        "id": "zp3xNKpQbnxy"
      },
      "source": [
        "#### Answer (for maximization problems):\n",
        "\n",
        "\n",
        "#### Answer (for minimization problems):"
      ]
    },
    {
      "cell_type": "markdown",
      "metadata": {
        "id": "fcR6Rzcnbnxz"
      },
      "source": [
        "### Question 3\n",
        " Assume you have a maximization integer program with all integral coefficents in the objective function. Now, suppose you are running the branch and bound algorithm and come across a node with an optimal value to the current LP relaxation of 44.5. The current incumbent is 44. Can you fathom this node? Why or why not?\n",
        "\n"
      ]
    },
    {
      "cell_type": "markdown",
      "metadata": {
        "id": "oWqtrSc3bnxz"
      },
      "source": [
        "#### Answer:"
      ]
    },
    {
      "cell_type": "markdown",
      "metadata": {
        "id": "e76tXodfbnxz"
      },
      "source": [
        "### Question 4\n",
        "(a) True or False: If the optimal value of the LP relaxation of the original program is integer, then you have found an optimal solution to your integer program. Explain why or why not this is true.\n",
        "\n",
        "\n",
        "(b) True or False: If the optimal solution to the LP relaxation of the original program is integer, then you have found an optimal solution to your integer program. Explain why or why not this is true.\n"
      ]
    },
    {
      "cell_type": "markdown",
      "metadata": {
        "id": "_AdWVb13bnxz"
      },
      "source": [
        "#### Answer to part (a):\n",
        "\n",
        "\n",
        "\n",
        "\n",
        "#### Answer to part (b):"
      ]
    },
    {
      "cell_type": "markdown",
      "metadata": {
        "id": "So-RIEsjbnxz"
      },
      "source": [
        "### Question 5\n",
        " True of False: If the LP is infeasible, then the IP is infeasible. Explain why or why not this is true.\n",
        "\n"
      ]
    },
    {
      "cell_type": "markdown",
      "metadata": {
        "id": "JqjBUD2Ebnxz"
      },
      "source": [
        "#### Answer:"
      ]
    },
    {
      "cell_type": "markdown",
      "metadata": {
        "id": "KPcVkHCKbnx0"
      },
      "source": [
        "The next questions ask about the following branch-and-bound tree, in which, you may assume all of the variables are binary (i.e., restricted to either 0 or 1). For a given node of the tree, if the solution is not integral, the fractional $x_i$ that was used to branch is given. If the solution is integral, it is denoted *INT*. In the current iteration of branch-and-bound, you are looking at the node with the $z^*$."
      ]
    },
    {
      "cell_type": "markdown",
      "metadata": {
        "id": "8pOGT-Mobnx0"
      },
      "source": [
        "<img src=\"https://github.com/engri-1101/orie-3310/blob/main/labs/lab2/part1_bnb_tree.png?raw=true\" width=\"500\"/>"
      ]
    },
    {
      "cell_type": "markdown",
      "metadata": {
        "id": "pXjRNbS8bnx0"
      },
      "source": [
        "### Question 6\n",
        " Can you determine if the integer program this branch-and-bound tree is for is a minimization or maximixation problem? If so, which is it, and how can you determine this?\n",
        "\n"
      ]
    },
    {
      "cell_type": "markdown",
      "metadata": {
        "id": "T_-0S3FGbnx0"
      },
      "source": [
        "#### Answer:."
      ]
    },
    {
      "cell_type": "markdown",
      "metadata": {
        "id": "AQIUnc0hbnx0"
      },
      "source": [
        "*For **Q7-8**, you can assume integral coefficents in the objective function.*"
      ]
    },
    {
      "cell_type": "markdown",
      "metadata": {
        "id": "pjBO951ubnx0"
      },
      "source": [
        "### Question 7\n",
        " Is the current node (marked $z^*$) fathomed? Why or why not? If not, what additional constraints should be imposed for each of the next two nodes?"
      ]
    },
    {
      "cell_type": "markdown",
      "metadata": {
        "id": "DxZJ92Bibnx0"
      },
      "source": [
        "#### Answer:"
      ]
    },
    {
      "cell_type": "markdown",
      "metadata": {
        "id": "Xipt6QE7bnx1"
      },
      "source": [
        "### Question 8\n",
        " Consider the nodes under the current node (where $z = 16.3$). What do you know about the optimal value of these nodes? Why?\n"
      ]
    },
    {
      "cell_type": "markdown",
      "metadata": {
        "id": "AIQ7Kjv6bnx1"
      },
      "source": [
        "#### Answer:"
      ]
    },
    {
      "cell_type": "markdown",
      "metadata": {
        "id": "ke3pgbrPbnx1"
      },
      "source": [
        "## Part 2: The Knapsack Problem\n",
        "\n",
        "In this lab, you will solve an integer program by branch-and-bound. The integer program to be solved will be a knapsack problem."
      ]
    },
    {
      "cell_type": "markdown",
      "metadata": {
        "id": "1-QhfPb-bnx1"
      },
      "source": [
        "**Knapsack Problem:** We are given a collection of $n$ items, where each item $i = 1,\\ldots,n$ has a weight $w_i$ and a value $v_i$. In addition, there is a given capacity $W$, and the aim is to select a maximum value subset of items that has a total weight at most $W$. Note that each item can be brought at most once.\n",
        "\n",
        "$$\\begin{align*}\n",
        "\\max \\quad & \\sum_{i=1}^n v_ix_i\\\\\n",
        "\\text{s.t.} \\quad & \\sum_{i=1}^n w_ix_i \\leq W \\\\\n",
        "& 0 \\leq x_i \\leq 1, \\text{integer}, i = 1,\\dots,n\n",
        "\\end{align*}$$"
      ]
    },
    {
      "cell_type": "markdown",
      "metadata": {
        "id": "P9Hc22rVbnx1"
      },
      "source": [
        "Consider the following data which we import from a CSV file:"
      ]
    },
    {
      "cell_type": "code",
      "execution_count": null,
      "metadata": {
        "id": "KYxe4hx6bnx1"
      },
      "outputs": [],
      "source": [
        "data = pd.read_csv('knapsack_data_1.csv', index_col=0)\n",
        "data"
      ]
    },
    {
      "cell_type": "markdown",
      "metadata": {
        "id": "IFa8eLKwbnx1"
      },
      "source": [
        "and $W = 18$."
      ]
    },
    {
      "cell_type": "markdown",
      "metadata": {
        "id": "s58K6a47bnx2"
      },
      "source": [
        "### Question 9\n",
        " Are there any items we can remove from our input to simplify this problem? Why? If so, replace `index` with the item number that can be removed in the code below. Hint: how many of each item could we possibly take?\n",
        "\n"
      ]
    },
    {
      "cell_type": "markdown",
      "metadata": {
        "id": "1fIKUzB4bnx3"
      },
      "source": [
        "#### Answer:"
      ]
    },
    {
      "cell_type": "code",
      "execution_count": null,
      "metadata": {
        "id": "XuRW77ZLbnx3"
      },
      "outputs": [],
      "source": [
        "# change the next line so index is equal to the number of the item that can be removed\n",
        "index = -1\n",
        "data = data.drop(index)\n",
        "data"
      ]
    },
    {
      "cell_type": "markdown",
      "metadata": {
        "id": "Ab3ACZtubnx3"
      },
      "source": [
        "### Question 10\n",
        "Does the IP optimal solution change if we remove item 7 from the knapsack input? Explain why or why not.\n"
      ]
    },
    {
      "cell_type": "markdown",
      "metadata": {
        "id": "JcUweqE9bnx3"
      },
      "source": [
        "#### Answer:"
      ]
    },
    {
      "cell_type": "markdown",
      "metadata": {
        "id": "sZ_SE8Ykbnx3"
      },
      "source": [
        "### Question 11\n",
        " Does the LP relaxation's optimal value change if we remove item 7 from the knapsack input? Explain why or why not?\n"
      ]
    },
    {
      "cell_type": "markdown",
      "metadata": {
        "id": "xQR-Wvsgbnx3"
      },
      "source": [
        "#### Answer:"
      ]
    },
    {
      "cell_type": "markdown",
      "metadata": {
        "id": "cb-Fodyebnx3"
      },
      "source": [
        "In **Q10-11**, you should have found that removing these items removes feasible solutions from the linear program  but does not change the integer program. This is desirable as the gap between the optimal IP and LP values can become smaller. By adding this step, branch-and-bound may terminate sooner."
      ]
    },
    {
      "cell_type": "markdown",
      "metadata": {
        "id": "e0wpTD2hbnx3"
      },
      "source": [
        "Recall that a branch and bound node can be fathomed if its bound is no better than the value of the best feasible integer solution found thus far. Hence, it helps to have a good feasible integer solution as quickly as possible (so that we stop needless work). To do this, we can first try to construct a good feasible integer solution by a reasonable heuristic algorithm before starting to run the branch and bound procedure."
      ]
    },
    {
      "cell_type": "markdown",
      "metadata": {
        "id": "i_BA9KW1bnx4"
      },
      "source": [
        "In designing a heuristic for the knapsack problem, it is helpful to think about the value per unit weight for each item. We compute this value in the table below."
      ]
    },
    {
      "cell_type": "code",
      "execution_count": null,
      "metadata": {
        "id": "flsRpUnQbnx4"
      },
      "outputs": [],
      "source": [
        "data['value per unit weight'] = (data['value'] / data['weight']).round(2)\n",
        "data"
      ]
    },
    {
      "cell_type": "markdown",
      "metadata": {
        "id": "fgimyqKqbnx4"
      },
      "source": [
        "### Question 12\n",
        " Design a reasonable heuristic for the knapsack problem. Note a heuristic aims to find a decent solution to the problem (but is not necessarily optimal).\n",
        "\n"
      ]
    },
    {
      "cell_type": "markdown",
      "metadata": {
        "id": "Sv5iIihxbnx4"
      },
      "source": [
        "#### Answer:\n"
      ]
    },
    {
      "cell_type": "markdown",
      "metadata": {
        "id": "IP_WfDhEbnx4"
      },
      "source": [
        "### Question 13\n",
        " Run your heuristic on the data above to compute a good feasible integer solution. Your heuristic should generate a feasible solution with a value of 64 or better. If it does not, try a different heuristic (or talk to your TA!)\n",
        "\n"
      ]
    },
    {
      "cell_type": "markdown",
      "metadata": {
        "id": "xVYRdqOdbnx4"
      },
      "source": [
        "#### Answer:"
      ]
    },
    {
      "cell_type": "markdown",
      "metadata": {
        "id": "JVDQYzmYbnx4"
      },
      "source": [
        "We will now use the branch-and-bound algorithm to solve this knapsack problem! First, let us define a mathematical model for the linear relaxation of the knapsack problem."
      ]
    },
    {
      "cell_type": "markdown",
      "metadata": {
        "id": "wPzn2HZebnx4"
      },
      "source": [
        "### Question 14\n",
        "Complete the model below."
      ]
    },
    {
      "cell_type": "code",
      "execution_count": null,
      "metadata": {
        "id": "IWUrfCpFbnx5"
      },
      "outputs": [],
      "source": [
        "def Knapsack(table, capacity, integer = False):\n",
        "    \"\"\"Model for solving the Knapsack problem.\n",
        "\n",
        "    Args:\n",
        "        table (pd.DataFrame): A table indexd by items with a column for value and weight\n",
        "        capcity (int): An integer-capacity for the knapsack\n",
        "        integer (bool): True if the variables should be integer. False otherwise.\n",
        "    \"\"\"\n",
        "    ITEMS = list(table.index)        # set of items\n",
        "    v = table.to_dict()['value']     # value for each item\n",
        "    w = table.to_dict()['weight']    # weight for each item\n",
        "    W = capacity                     # capacity of the knapsack\n",
        "\n",
        "    # define model\n",
        "    m = LpProblem(\"knapsack\", LpMaximize)\n",
        "\n",
        "    # decision variables\n",
        "    x = {}\n",
        "    variable_category = \"Integer\" if integer else \"Continuous\"\n",
        "    for i in ITEMS:\n",
        "          x[i] = LpVariable('x_'+str(i), 0, 1, variable_category)\n",
        "\n",
        "    # define objective function here\n",
        "    m += sum(v[i]*x[i] for i in ITEMS)\n",
        "\n",
        "    # Add a constraint that enforces that weight must not exceed capacity\n",
        "    # recall that we add constraints to the model using +=\n",
        "    raise ValueError('Replace this line with your code answer')\n",
        "    return (m, x)  # return the model and the decision variables"
      ]
    },
    {
      "cell_type": "code",
      "execution_count": null,
      "metadata": {
        "id": "evymOUP5bnx5"
      },
      "outputs": [],
      "source": [
        "# You do not need to do anything with this cell but make sure you run it!\n",
        "def solve(m):\n",
        "    \"\"\"Used to solve a model m.\"\"\"\n",
        "    solver = GUROBI(manageEnv=True, envOptions=options)\n",
        "    m.solve(solver)\n",
        "    solver.close()\n",
        "\n",
        "    print('Objective =',value(m.objective))\n",
        "    return [(var.name, value(var)) for var in m.variables()]"
      ]
    },
    {
      "cell_type": "markdown",
      "metadata": {
        "id": "Uul3iFhXbnx5"
      },
      "source": [
        "We can now create a linear relaxation of our knapsack problem. Now, `m` represents our model and `x` represents our decision variables."
      ]
    },
    {
      "cell_type": "code",
      "execution_count": null,
      "metadata": {
        "id": "IeUpVlw7bnx5"
      },
      "outputs": [],
      "source": [
        "m, x = Knapsack(data, 18)"
      ]
    },
    {
      "cell_type": "markdown",
      "metadata": {
        "id": "Gs7ctvtdbnx5"
      },
      "source": [
        "We can use the next line to solve the model and output the solution"
      ]
    },
    {
      "cell_type": "code",
      "execution_count": null,
      "metadata": {
        "id": "KG2p83BYbnx6"
      },
      "outputs": [],
      "source": [
        "solve(m)"
      ]
    },
    {
      "cell_type": "markdown",
      "metadata": {
        "id": "cRPzBOnDbnx6"
      },
      "source": [
        "### Question 15\n",
        " How does this optimal value compare to the value you found using the heuristic integer solution?"
      ]
    },
    {
      "cell_type": "markdown",
      "metadata": {
        "id": "cq_-P0bjbnx6"
      },
      "source": [
        "#### Answer:"
      ]
    },
    {
      "cell_type": "markdown",
      "metadata": {
        "id": "TpCcskktbnx6"
      },
      "source": [
        "### Question 16\n",
        " Should this node be fathomed? If not, what variable should be branched on and what additional constraints should be imposed for each of the next two nodes?\n"
      ]
    },
    {
      "cell_type": "markdown",
      "metadata": {
        "id": "Coj18eFbbnx6"
      },
      "source": [
        "#### Answer:"
      ]
    },
    {
      "cell_type": "markdown",
      "metadata": {
        "id": "WXfFEb6Gbnx6"
      },
      "source": [
        "After constructing the linear relaxation model using `Knapsack(data, 18)` we can add additional constraints. For example, we can add the constraint $x_2 \\leq 0$ and solve it as follows:"
      ]
    },
    {
      "cell_type": "code",
      "execution_count": null,
      "metadata": {
        "id": "3Ns0Rb9Jbnx6"
      },
      "outputs": [],
      "source": [
        "m, x = Knapsack(data, 18)\n",
        "m += (x[2] <= 0)\n",
        "solve(m)"
      ]
    },
    {
      "cell_type": "markdown",
      "metadata": {
        "id": "5xkSA4Jfbnx6"
      },
      "source": [
        " **NOTE:** The line `m, x = Knapsack(data, 18)` resets the model `m` to the LP relaxation. All constraints from branching have to be added each time."
      ]
    },
    {
      "cell_type": "markdown",
      "metadata": {
        "id": "m9v73CkMbnx6"
      },
      "source": [
        "### Question 17\n",
        " Use the following cell to compute the optimal value for the other node you found in **Q16**."
      ]
    },
    {
      "cell_type": "code",
      "execution_count": null,
      "metadata": {
        "id": "H_vx3Cf0bnx6"
      },
      "outputs": [],
      "source": [
        "# Answer Q17\n",
        "raise ValueError('Replace this line with your code answer')"
      ]
    },
    {
      "cell_type": "markdown",
      "metadata": {
        "id": "3WAvmBR6bnx7"
      },
      "source": [
        "### Question 18\n",
        "What was the optimal value? Can this node be fathomed? Why? (Hint: In **Q13**, you found a feasible integer solution with value 64.)\n"
      ]
    },
    {
      "cell_type": "markdown",
      "metadata": {
        "id": "B8LAQHBEbnx7"
      },
      "source": [
        "#### Answer:"
      ]
    },
    {
      "cell_type": "markdown",
      "metadata": {
        "id": "Efda-34Vbnx7"
      },
      "source": [
        "If we continue running the branch and bound algorithm, we will eventually reach the branch and bound tree below where the $z^*$ indictes the current node we are looking at.\n",
        "\n",
        "<img src=\"https://github.com/engri-1101/orie-3310/blob/main/labs/lab2/part2_bnb_tree.png?raw=true\" width=\"700\"/>"
      ]
    },
    {
      "cell_type": "markdown",
      "metadata": {
        "id": "5k0LX5q4bnx7"
      },
      "source": [
        "### Question 19\n",
        " The node with $z = 64.857$ was fathomed. Why are we allowed to fathom this node? (Hint: think back to **Q3**)\n"
      ]
    },
    {
      "cell_type": "markdown",
      "metadata": {
        "id": "nO9I043Mbnx7"
      },
      "source": [
        "#### Answer:"
      ]
    },
    {
      "cell_type": "markdown",
      "metadata": {
        "id": "VVzXRylMbnx7"
      },
      "source": [
        "### Question 20\n",
        " Finish running branch and bound to find the optimal integer solution. Use a separate cell for each node you solve and indicate if the node was fathomed with a comment. (Hint: Don't forget to include the constraints further up in the branch and bound tree.)"
      ]
    },
    {
      "cell_type": "code",
      "execution_count": null,
      "metadata": {
        "id": "W5MhzPrPbnx7"
      },
      "outputs": [],
      "source": [
        "# copy paste this cell and add the extra constraints for each bnb node\n",
        "m, x = Knapsack(data, 18)\n",
        "# Add constraints here\n",
        "######################\n",
        "solve(m)"
      ]
    },
    {
      "cell_type": "code",
      "execution_count": null,
      "metadata": {
        "id": "SvgoJvkNbnx7"
      },
      "outputs": [],
      "source": [
        "raise ValueError('Replace this line with your code answer')"
      ]
    },
    {
      "cell_type": "code",
      "execution_count": null,
      "metadata": {
        "id": "oti-ft3Qbnx7"
      },
      "outputs": [],
      "source": [
        "raise ValueError('Replace this line with your code answer')"
      ]
    },
    {
      "cell_type": "markdown",
      "metadata": {
        "id": "W7UrBQqlbnx7"
      },
      "source": [
        "### Question 21\n",
        "How many nodes in total did you have to explore while running the branch and bound algorithm? This should include the original LP relaxation."
      ]
    },
    {
      "cell_type": "markdown",
      "metadata": {
        "id": "ew4r2HKebnx7"
      },
      "source": [
        "#### Answer:"
      ]
    },
    {
      "cell_type": "markdown",
      "metadata": {
        "id": "vlklX8qqbnx8"
      },
      "source": [
        "## Part 3: Geometry of Branch and Bound"
      ]
    },
    {
      "cell_type": "markdown",
      "metadata": {
        "id": "2hEmtBYFbnx8"
      },
      "source": [
        "We  will use the `gilp` package to viusualize branch and bound. We will give a quick overview of the tool. The function `bnb_visual` takes an `LP` and returns a visualization. It is assumed that every decision variable is constrained to be integer.  `bnb_visual` returns a series of figures for each node of the branch and bound tree. Let's look at a small 2D example:\n",
        "\n",
        "$$\\begin{align*}\n",
        "\\max \\quad & 5x_1+ 8x_2\\\\\n",
        "\\text{s.t.} \\quad & x_1 + x_2 \\leq 6 \\\\\n",
        "& 5x_1 + 9x_2 \\leq 45 \\\\\n",
        "& x_1, x_2 \\geq 0, \\quad \\text{integral}\n",
        "\\end{align*}$$"
      ]
    },
    {
      "cell_type": "code",
      "execution_count": null,
      "metadata": {
        "id": "ZlBOSPbYbnx8"
      },
      "outputs": [],
      "source": [
        "nodes = gilp.visualize.bnb_visual(gilp.examples.STANDARD_2D_IP)"
      ]
    },
    {
      "cell_type": "code",
      "execution_count": null,
      "metadata": {
        "id": "LvOHOiyBbnx8"
      },
      "outputs": [],
      "source": [
        "nodes[0].show()"
      ]
    },
    {
      "cell_type": "markdown",
      "metadata": {
        "id": "5R5vMyjsbnx8"
      },
      "source": [
        "Run the cells above to generate a figure for each node and look at the first node. At first, you will see the LP relaxation on the left and the root of the branch and bound tree on the right. The simplex path and isoprofit slider are also present."
      ]
    },
    {
      "cell_type": "markdown",
      "metadata": {
        "id": "b6kX6Xbybnx8"
      },
      "source": [
        "### Question\n",
        "Recall the root of a branch and bound tree is the unaltered LP relaxation. What is the optimal solution? (Hint: Use the objective slider and hover over extreme points).\n",
        "\n"
      ]
    },
    {
      "cell_type": "markdown",
      "metadata": {
        "id": "JXM0W3hCbnx8"
      },
      "source": [
        "#### Answer:"
      ]
    },
    {
      "cell_type": "markdown",
      "metadata": {
        "id": "wkwXRl2fbnx8"
      },
      "source": [
        "### Question\n",
        "Assume that we always choose the variable with the minimum index to branch on if there are multiple options. Write down (in full) each of the LPs we get after branching off the root node."
      ]
    },
    {
      "cell_type": "markdown",
      "metadata": {
        "id": "04Cd07Dmbnx8"
      },
      "source": [
        "#### Answer:"
      ]
    },
    {
      "cell_type": "code",
      "execution_count": null,
      "metadata": {
        "id": "SAtZX119bnx8"
      },
      "outputs": [],
      "source": [
        "nodes[1].show()"
      ]
    },
    {
      "cell_type": "markdown",
      "metadata": {
        "id": "lDSe-Az_bnx9"
      },
      "source": [
        "The outline of the original LP relaxation is still shown on the left. Now that we have eliminated some of the fractional feasible solutions, we now have 2 feasible regions to consider. The darker one is the feasible region associated with the current node which is also shaded darker in the branch and bound tree. The unexplored nodes in the branch and bound tree are not shaded in."
      ]
    },
    {
      "cell_type": "markdown",
      "metadata": {
        "id": "p1ZnpnUebnx9"
      },
      "source": [
        "### Question\n",
        "Which feasible solutions to the LP relaxation are removed by this branch?\n",
        "\n",
        "\n"
      ]
    },
    {
      "cell_type": "markdown",
      "metadata": {
        "id": "7KlXv_iDbnx9"
      },
      "source": [
        "#### Answer:"
      ]
    },
    {
      "cell_type": "markdown",
      "metadata": {
        "id": "nBksw_nqbnx9"
      },
      "source": [
        "### Question\n",
        "At the current (dark) node, what constraints will we add? How many feasible regions will the original LP relaxation be broken into?"
      ]
    },
    {
      "cell_type": "markdown",
      "metadata": {
        "id": "JHXkFG2Bbnx9"
      },
      "source": [
        "#### Answer:"
      ]
    },
    {
      "cell_type": "code",
      "execution_count": null,
      "metadata": {
        "scrolled": false,
        "id": "0XWZykjzbnx9"
      },
      "outputs": [],
      "source": [
        "nodes[2].show()"
      ]
    },
    {
      "cell_type": "markdown",
      "metadata": {
        "id": "ylC2xgzLbnx9"
      },
      "source": [
        "### Question\n",
        "What is the optimal solution at the current (dark) node? Do we have to further explore this branch? Have we arrived at the optimal solution of the IP? Explain.\n"
      ]
    },
    {
      "cell_type": "markdown",
      "metadata": {
        "id": "GCT18T7fbnx9"
      },
      "source": [
        "#### Answer:"
      ]
    },
    {
      "cell_type": "markdown",
      "metadata": {
        "id": "j-ArgU3Ybnx-"
      },
      "source": [
        "### Question\n",
        "Recall shaded nodes have been explored and the node shaded darker (and feasible region shaded darker) correspond to the current node and its feasible region. Nodes not shaded have not been explored. How many nodes have **NOT** yet been explored?\n"
      ]
    },
    {
      "cell_type": "markdown",
      "metadata": {
        "id": "6IxPVni9bnx-"
      },
      "source": [
        "#### Answer:"
      ]
    },
    {
      "cell_type": "markdown",
      "metadata": {
        "id": "6D9TLVHebnx-"
      },
      "source": [
        "\n",
        "### Question\n",
        "How many nodes have a degree of one in the branch and bound tree? (That is, they are only connected to one edge). These nodes are called leaf nodes. What is the relationship between the leaf nodes and the remaining feasible region?\n"
      ]
    },
    {
      "cell_type": "markdown",
      "metadata": {
        "id": "A10M9_WGbnx-"
      },
      "source": [
        "#### Answer:"
      ]
    },
    {
      "cell_type": "code",
      "execution_count": null,
      "metadata": {
        "scrolled": false,
        "id": "hAOta7V9bnx-"
      },
      "outputs": [],
      "source": [
        "# Show the next two iterations of the branch and bound algorithm\n",
        "nodes[3].show()\n",
        "nodes[4].show()"
      ]
    },
    {
      "cell_type": "markdown",
      "metadata": {
        "id": "YZjNDbB4bnx-"
      },
      "source": [
        "### Question\n",
        "At the current (dark) node, we added the constraint $x_1 \\leq 1$. Why were the fractional solutions $1 < x_1 < 2$ not eliminated for $x_2 <= 3$?\n"
      ]
    },
    {
      "cell_type": "markdown",
      "metadata": {
        "id": "AUG5KmNgbnx-"
      },
      "source": [
        "#### Answer:"
      ]
    },
    {
      "cell_type": "code",
      "execution_count": null,
      "metadata": {
        "scrolled": false,
        "id": "BpkIo6pqbnx_"
      },
      "outputs": [],
      "source": [
        "# Show the next three iterations of the branch and bound algorithm\n",
        "nodes[5].show()\n",
        "nodes[6].show()\n",
        "nodes[7].show()"
      ]
    },
    {
      "cell_type": "markdown",
      "metadata": {
        "id": "3L-v5rdKbnx_"
      },
      "source": [
        "### Question\n",
        " What constraints are enforced at the current (dark) node? Look at the third graph/tree. Why are there no feasible solutions at this node? (Hint: simplify the constraints that are enforced and think about feasibility)"
      ]
    },
    {
      "cell_type": "markdown",
      "metadata": {
        "id": "pwdrz1VBbnx_"
      },
      "source": [
        "#### Answer:"
      ]
    },
    {
      "cell_type": "code",
      "execution_count": null,
      "metadata": {
        "scrolled": false,
        "id": "mJwEd_DBbnx_"
      },
      "outputs": [],
      "source": [
        "nodes[8].show()"
      ]
    },
    {
      "cell_type": "markdown",
      "metadata": {
        "id": "c_HPpd9wbnyA"
      },
      "source": [
        "### Question\n",
        "Are we done? If so, what nodes are fathomed and what is the optimal solution? Explain.\n"
      ]
    },
    {
      "cell_type": "markdown",
      "metadata": {
        "id": "_Q_LSUfBbnyA"
      },
      "source": [
        "#### Answer:"
      ]
    },
    {
      "cell_type": "markdown",
      "metadata": {
        "id": "0TEIKwCvbnyA"
      },
      "source": [
        "Let's look at branch and bound visualization for an integer program with 3 decision variables!"
      ]
    },
    {
      "cell_type": "code",
      "execution_count": null,
      "metadata": {
        "id": "vu3SNttFbnyA"
      },
      "outputs": [],
      "source": [
        "nodes = gilp.bnb_visual(gilp.examples.VARIED_BRANCHING_3D_IP)"
      ]
    },
    {
      "cell_type": "code",
      "execution_count": null,
      "metadata": {
        "scrolled": false,
        "id": "mKmFn7sebnyA"
      },
      "outputs": [],
      "source": [
        "# Look at the first 3 iterations\n",
        "nodes[0].show()\n",
        "nodes[1].show()\n",
        "nodes[2].show()"
      ]
    },
    {
      "cell_type": "markdown",
      "metadata": {
        "id": "uyGOj7T7bnyA"
      },
      "source": [
        "Let's fast-forward to the final iteration of the branch and bound algorithm."
      ]
    },
    {
      "cell_type": "code",
      "execution_count": null,
      "metadata": {
        "scrolled": false,
        "id": "gF3cTK3ebnyA"
      },
      "outputs": [],
      "source": [
        "nodes[-1].show()"
      ]
    },
    {
      "cell_type": "markdown",
      "metadata": {
        "id": "mPLnpNv0bnyA"
      },
      "source": [
        "### Question\n",
        "Consider the feasible region that looks like a rectangular box with one corner point at the origin. What node does it correspond to in the tree? What is the optimal solution at that node?\n"
      ]
    },
    {
      "cell_type": "markdown",
      "metadata": {
        "id": "GwIFIJ8VbnyA"
      },
      "source": [
        "#### Answer:"
      ]
    },
    {
      "cell_type": "markdown",
      "metadata": {
        "id": "uDflBNembnyA"
      },
      "source": [
        "### Question\n",
        "How many branch and bound nodes did we explore? What was the optimal solution? How many branch and bound nodes would we have explored if we knew the value of the optimal solution before starting branch and bound?\n"
      ]
    },
    {
      "cell_type": "markdown",
      "metadata": {
        "id": "g8kTH8vIbnyA"
      },
      "source": [
        "#### Answer:"
      ]
    }
  ],
  "metadata": {
    "kernelspec": {
      "display_name": "Python 3 (ipykernel)",
      "language": "python",
      "name": "python3"
    },
    "language_info": {
      "codemirror_mode": {
        "name": "ipython",
        "version": 3
      },
      "file_extension": ".py",
      "mimetype": "text/x-python",
      "name": "python",
      "nbconvert_exporter": "python",
      "pygments_lexer": "ipython3",
      "version": "3.7.16"
    },
    "colab": {
      "provenance": []
    }
  },
  "nbformat": 4,
  "nbformat_minor": 0
}